{
 "cells": [
  {
   "cell_type": "markdown",
   "metadata": {},
   "source": [
    "### Python scraping\n",
    "\n",
    "```\n",
    "personal notebook about webscraping using Selenium, beautifiul soup , and normal http lib request.\n",
    "\n",
    "A website has 3 main components , html for contents, javascript for interaction, css for style.\n",
    "\n",
    "Why scraping: Automate data gathering\n",
    "\n",
    "css selectors: id, tags and classes.\n",
    "tags is for example <p> , which css can find using p {}\n",
    "<p id=\"mijnid\"> can be found using #id . \n",
    "<p class=\"mijnclass\"> can be found using .mijnclass , and is used for many tags with the same class.\n",
    "\n",
    "To debug: open Chrome , and go to inspect components on the website\n",
    "In console use $$(\".name\") to find css tags to verify/debug your finding.\n",
    "\n",
    "In console open your item to see all attributes. \n",
    "use :\n",
    "[...$$(\".yourname\")].forEach( (e) =>: { } ];\n",
    "\n",
    "it shows your attribute.\n",
    "\n",
    "\n",
    "to scrape install selnium:\n",
    "python -m pip install selenium\n",
    "Also a webdriver (chrome driver) can be used to test websites. In the end we will just use a aorchestration tool which call our scraping tool periodically. But before that moment we will use chromedriver to research the website using code\n",
    "```"
   ]
  },
  {
   "cell_type": "code",
   "execution_count": 189,
   "metadata": {
    "collapsed": true
   },
   "outputs": [],
   "source": [
    "#settings\n",
    "#main_project_url=\"https://github.com/michelnossin/python-scraping/commits/master\"\n",
    "#main_project_url=\"https://github.com/michelnossin/pandaweb/commits/master\"\n",
    "main_project_url=\"https://github.com/Schiphol-Hub/dil_scripts/commits/master\"\n",
    "#main_project_url=\"https://github.com/michelnossin/commander/commits/master\""
   ]
  },
  {
   "cell_type": "code",
   "execution_count": 106,
   "metadata": {
    "collapsed": false
   },
   "outputs": [],
   "source": [
    "from selenium import webdriver\n",
    "browser = webdriver.Chrome(\"/Users/michelnossin/Downloads/chromedriver\")\n",
    "\n",
    "#browser.get(main_project_url)\n",
    "#browser.execute_script(\"alert('hello michel')\")\n",
    "#input.send_keys(\"some input text for input box\")\n",
    "#input.clear()"
   ]
  },
  {
   "cell_type": "code",
   "execution_count": 110,
   "metadata": {
    "collapsed": false
   },
   "outputs": [],
   "source": [
    "import time\n",
    "import numpy as np\n",
    "import pandas as pd\n",
    "\n",
    "def _retrieve_df_commitinfo ():\n",
    "    'Retreive a Pandas dataframe with commits in a git project from current level'\n",
    "\n",
    "    dates = browser.find_elements_by_css_selector(\".commit-meta\")\n",
    "    titles = browser.find_elements_by_css_selector(\".commit-title\")\n",
    "    authors = browser.find_elements_by_css_selector(\".commit-author\")\n",
    "    alist = [a.text for a in authors]\n",
    "    tlist = [t.text for t in titles]\n",
    "    dlist = [d.text for d in dates]\n",
    "    dat = zip(dlist,alist,tlist)\n",
    "    dat = [list(a) for a in dat]\n",
    "    df = pd.DataFrame(dat)\n",
    "    \n",
    "    #Go to next page with commits on git\n",
    "    deeper_list = pd.DataFrame()\n",
    "    try:\n",
    "        older_button = browser.find_element_by_css_selector(\".pagination a\")\n",
    "        older_button.click()\n",
    "        time.sleep(0.5)\n",
    "    \n",
    "        deeper_list = retrieve_lists_commitinfo()\n",
    "    except:\n",
    "        return df\n",
    "     \n",
    "    return pd.concat([df, deeper_list])\n",
    "\n",
    "def get_commits_project(project_url):\n",
    "    'get pandas dataframe with commits from given project url'\n",
    "    browser.get(project_url)\n",
    "    results = _retrieve_df_commitinfo()\n",
    "    results.columns = ['date', 'commiter','title']\n",
    "    return results"
   ]
  },
  {
   "cell_type": "code",
   "execution_count": 111,
   "metadata": {
    "collapsed": false
   },
   "outputs": [
    {
     "data": {
      "text/html": [
       "<div>\n",
       "<table border=\"1\" class=\"dataframe\">\n",
       "  <thead>\n",
       "    <tr style=\"text-align: right;\">\n",
       "      <th></th>\n",
       "      <th>date</th>\n",
       "      <th>commiter</th>\n",
       "      <th>title</th>\n",
       "    </tr>\n",
       "  </thead>\n",
       "  <tbody>\n",
       "    <tr>\n",
       "      <th>0</th>\n",
       "      <td>michelnossin committed on Dec 17 2016</td>\n",
       "      <td>michelnossin</td>\n",
       "      <td>update readme</td>\n",
       "    </tr>\n",
       "    <tr>\n",
       "      <th>1</th>\n",
       "      <td>michelnossin committed on Dec 17 2016</td>\n",
       "      <td>michelnossin</td>\n",
       "      <td>Created python backend, using it frontend has ...</td>\n",
       "    </tr>\n",
       "    <tr>\n",
       "      <th>2</th>\n",
       "      <td>michelnossin committed on Dec 17 2016</td>\n",
       "      <td>michelnossin</td>\n",
       "      <td>Change readme</td>\n",
       "    </tr>\n",
       "    <tr>\n",
       "      <th>3</th>\n",
       "      <td>michelnossin committed on Dec 17 2016</td>\n",
       "      <td>michelnossin</td>\n",
       "      <td>Frontend is also hosted by nodejs, changed sam...</td>\n",
       "    </tr>\n",
       "    <tr>\n",
       "      <th>4</th>\n",
       "      <td>michelnossin committed on Dec 14 2016</td>\n",
       "      <td>michelnossin</td>\n",
       "      <td>replaced complete backend to REST api, only no...</td>\n",
       "    </tr>\n",
       "    <tr>\n",
       "      <th>5</th>\n",
       "      <td>michelnossin committed on Dec 11 2016</td>\n",
       "      <td>michelnossin</td>\n",
       "      <td>Created jsonrpc based server and client exampl...</td>\n",
       "    </tr>\n",
       "    <tr>\n",
       "      <th>6</th>\n",
       "      <td>michelnossin committed on Dec 10 2016</td>\n",
       "      <td>michelnossin</td>\n",
       "      <td>Added sample Python backend, and test frontend...</td>\n",
       "    </tr>\n",
       "    <tr>\n",
       "      <th>7</th>\n",
       "      <td>michelnossin committed on Dec 7 2016</td>\n",
       "      <td>michelnossin</td>\n",
       "      <td>changed readme</td>\n",
       "    </tr>\n",
       "    <tr>\n",
       "      <th>8</th>\n",
       "      <td>michelnossin committed on Dec 7 2016</td>\n",
       "      <td>michelnossin</td>\n",
       "      <td>changed readme</td>\n",
       "    </tr>\n",
       "    <tr>\n",
       "      <th>9</th>\n",
       "      <td>michelnossin committed on Dec 7 2016</td>\n",
       "      <td>michelnossin</td>\n",
       "      <td>first commit</td>\n",
       "    </tr>\n",
       "  </tbody>\n",
       "</table>\n",
       "</div>"
      ],
      "text/plain": [
       "                                    date      commiter  \\\n",
       "0  michelnossin committed on Dec 17 2016  michelnossin   \n",
       "1  michelnossin committed on Dec 17 2016  michelnossin   \n",
       "2  michelnossin committed on Dec 17 2016  michelnossin   \n",
       "3  michelnossin committed on Dec 17 2016  michelnossin   \n",
       "4  michelnossin committed on Dec 14 2016  michelnossin   \n",
       "5  michelnossin committed on Dec 11 2016  michelnossin   \n",
       "6  michelnossin committed on Dec 10 2016  michelnossin   \n",
       "7   michelnossin committed on Dec 7 2016  michelnossin   \n",
       "8   michelnossin committed on Dec 7 2016  michelnossin   \n",
       "9   michelnossin committed on Dec 7 2016  michelnossin   \n",
       "\n",
       "                                               title  \n",
       "0                                      update readme  \n",
       "1  Created python backend, using it frontend has ...  \n",
       "2                                      Change readme  \n",
       "3  Frontend is also hosted by nodejs, changed sam...  \n",
       "4  replaced complete backend to REST api, only no...  \n",
       "5  Created jsonrpc based server and client exampl...  \n",
       "6  Added sample Python backend, and test frontend...  \n",
       "7                                     changed readme  \n",
       "8                                     changed readme  \n",
       "9                                       first commit  "
      ]
     },
     "execution_count": 111,
     "metadata": {},
     "output_type": "execute_result"
    }
   ],
   "source": [
    "\n",
    "get_commits_project(main_project_url)"
   ]
  },
  {
   "cell_type": "markdown",
   "metadata": {},
   "source": [
    "To Browse to multiple pages, you can find the button in the same matter,\n",
    "and use .click() to push next. If a button does no have a css selector,\n",
    "but it sits in a another item like a span tag, you can use e.g. $$(\".span a\") in chrome to find the link item in a span item."
   ]
  },
  {
   "cell_type": "markdown",
   "metadata": {},
   "source": [
    "### urllib , request and wget\n",
    "\n",
    "To getr data pure within python, without web driver on client"
   ]
  },
  {
   "cell_type": "code",
   "execution_count": 113,
   "metadata": {
    "collapsed": false
   },
   "outputs": [],
   "source": [
    "#Use request to get html\n",
    "import requests\n",
    "url =\"http://nos.nl\"\n",
    "response = requests.get(url)\n",
    "html = response.text\n",
    "#print(html)\n",
    "\n",
    "#Adding header like this:\n",
    "header = { \"From\":\"my name\"}\n",
    "response = requests.het(url,headers=header)\n",
    "if response.status_code != 200:\n",
    "    print(\"problem\",response.status_code,response.reason)\n",
    "    exit()"
   ]
  },
  {
   "cell_type": "code",
   "execution_count": 116,
   "metadata": {
    "collapsed": false
   },
   "outputs": [],
   "source": [
    "#OR use urllib\n",
    "import urllib.request\n",
    "request = urllib.request.Request(url)\n",
    "response = urllib.request.urlopen(request)\n",
    "html = response.read()\n",
    "#print(html)"
   ]
  },
  {
   "cell_type": "markdown",
   "metadata": {},
   "source": [
    "```\n",
    "to prevent load on website.\n",
    "wget <html file>\n",
    "Open file using local browser, and debug this file\n",
    "```"
   ]
  },
  {
   "cell_type": "code",
   "execution_count": null,
   "metadata": {
    "collapsed": true
   },
   "outputs": [],
   "source": [
    "#to open wget file\n",
    "file = \"myfile.html\"\n",
    "with open(file,encoding=\"utf-8\") as f:\n",
    "    html = f.read()\n",
    "    \n",
    "print (html)\n",
    "    "
   ]
  },
  {
   "cell_type": "markdown",
   "metadata": {},
   "source": [
    "Client side website might not show all data as the source code is not the same as what you see on your client browser"
   ]
  },
  {
   "cell_type": "markdown",
   "metadata": {},
   "source": [
    "### Beautiful Soup to parse\n",
    "\n",
    "python pip -m BeautifulSoup4\n"
   ]
  },
  {
   "cell_type": "code",
   "execution_count": 146,
   "metadata": {
    "collapsed": false
   },
   "outputs": [],
   "source": [
    "from bs4 import BeautifulSoup\n",
    "\n",
    "html = \"<p id='myid'>michel</p><p class='myclass'>hallo</p>\"  #as is parser\n",
    "soup = BeautifulSoup(html,\"html.parser\")\n"
   ]
  },
  {
   "cell_type": "code",
   "execution_count": 136,
   "metadata": {
    "collapsed": false
   },
   "outputs": [],
   "source": [
    "#Error. Acts more like browsers, so will add html to make page valid, like body \n",
    "import html5lib\n",
    "#parser = html5lib.HTMLParser(tree=html5lib.getTreeBuilder(\"dom\"))\n",
    "\n",
    "#soup = BeautifulSoup(html, \"html5lib\") #install using pip install html5lib\n"
   ]
  },
  {
   "cell_type": "code",
   "execution_count": 143,
   "metadata": {
    "collapsed": false
   },
   "outputs": [
    {
     "data": {
      "text/plain": [
       "[<p>michel</p>, <p class=\"myclass\">hallo</p>]"
      ]
     },
     "execution_count": 143,
     "metadata": {},
     "output_type": "execute_result"
    }
   ],
   "source": [
    "soup.find_all(\"p\")"
   ]
  },
  {
   "cell_type": "code",
   "execution_count": 139,
   "metadata": {
    "collapsed": false
   },
   "outputs": [
    {
     "data": {
      "text/plain": [
       "[]"
      ]
     },
     "execution_count": 139,
     "metadata": {},
     "output_type": "execute_result"
    }
   ],
   "source": [
    "soup.find_all([\"th\",\"td\"])"
   ]
  },
  {
   "cell_type": "code",
   "execution_count": 145,
   "metadata": {
    "collapsed": false
   },
   "outputs": [
    {
     "data": {
      "text/plain": [
       "[<p class=\"myclass\">hallo</p>]"
      ]
     },
     "execution_count": 145,
     "metadata": {},
     "output_type": "execute_result"
    }
   ],
   "source": [
    "soup.find_all(class_=\"myclass\")"
   ]
  },
  {
   "cell_type": "code",
   "execution_count": 157,
   "metadata": {
    "collapsed": false
   },
   "outputs": [
    {
     "data": {
      "text/plain": [
       "[<p id=\"myid\">michel</p>]"
      ]
     },
     "execution_count": 157,
     "metadata": {},
     "output_type": "execute_result"
    }
   ],
   "source": [
    "import re\n",
    "soup.find_all(id=re.compile(\"^myid\"))"
   ]
  },
  {
   "cell_type": "markdown",
   "metadata": {},
   "source": [
    "Use select or select_one is more clear, clean , precise syntax"
   ]
  },
  {
   "cell_type": "code",
   "execution_count": 148,
   "metadata": {
    "collapsed": false
   },
   "outputs": [
    {
     "data": {
      "text/plain": [
       "[<p id=\"myid\">michel</p>, <p class=\"myclass\">hallo</p>]"
      ]
     },
     "execution_count": 148,
     "metadata": {},
     "output_type": "execute_result"
    }
   ],
   "source": [
    "soup.select(\"p\")"
   ]
  },
  {
   "cell_type": "code",
   "execution_count": 149,
   "metadata": {
    "collapsed": false
   },
   "outputs": [
    {
     "data": {
      "text/plain": [
       "[]"
      ]
     },
     "execution_count": 149,
     "metadata": {},
     "output_type": "execute_result"
    }
   ],
   "source": [
    "soup.select(\"th,td\")"
   ]
  },
  {
   "cell_type": "code",
   "execution_count": 150,
   "metadata": {
    "collapsed": false
   },
   "outputs": [
    {
     "data": {
      "text/plain": [
       "[<p class=\"myclass\">hallo</p>]"
      ]
     },
     "execution_count": 150,
     "metadata": {},
     "output_type": "execute_result"
    }
   ],
   "source": [
    "soup.select(\".myclass\")"
   ]
  },
  {
   "cell_type": "code",
   "execution_count": 155,
   "metadata": {
    "collapsed": false
   },
   "outputs": [
    {
     "data": {
      "text/plain": [
       "[<p id=\"myid\">michel</p>]"
      ]
     },
     "execution_count": 155,
     "metadata": {},
     "output_type": "execute_result"
    }
   ],
   "source": [
    "#soup.select(\"[id=myid]\")\n",
    "soup.select(\"[id^=myid]\")"
   ]
  },
  {
   "cell_type": "markdown",
   "metadata": {},
   "source": [
    "```\n",
    "All these methods return objects not strings, so use:\n",
    "tag.parent, tag.find_parent(\"div\")\n",
    "tag.children , tag.select(\"div\")\n",
    "tag.find_next_sibling(), tag.find_previous_siblings()\n",
    "```\n"
   ]
  },
  {
   "cell_type": "code",
   "execution_count": 159,
   "metadata": {
    "collapsed": false
   },
   "outputs": [
    {
     "data": {
      "text/plain": [
       "<p id=\"myid\">michel</p>"
      ]
     },
     "execution_count": 159,
     "metadata": {},
     "output_type": "execute_result"
    }
   ],
   "source": [
    "p = soup.select_one(\"p\")\n",
    "p"
   ]
  },
  {
   "cell_type": "code",
   "execution_count": 160,
   "metadata": {
    "collapsed": false
   },
   "outputs": [
    {
     "data": {
      "text/plain": [
       "<p class=\"myclass\">hallo</p>"
      ]
     },
     "execution_count": 160,
     "metadata": {},
     "output_type": "execute_result"
    }
   ],
   "source": [
    "p = p.find_next_sibling()\n",
    "p"
   ]
  },
  {
   "cell_type": "code",
   "execution_count": 161,
   "metadata": {
    "collapsed": false
   },
   "outputs": [
    {
     "data": {
      "text/plain": [
       "['hallo']"
      ]
     },
     "execution_count": 161,
     "metadata": {},
     "output_type": "execute_result"
    }
   ],
   "source": [
    "p.contents #contents give strings"
   ]
  },
  {
   "cell_type": "code",
   "execution_count": 165,
   "metadata": {
    "collapsed": false
   },
   "outputs": [
    {
     "data": {
      "text/plain": [
       "{'class': ['myclass'], 'newattr': ' Michel'}"
      ]
     },
     "execution_count": 165,
     "metadata": {},
     "output_type": "execute_result"
    }
   ],
   "source": [
    "p.attrs #Get attributes for any tag \n",
    "p[\"newattr\"] = \" Michel\" #its a dict, and dicts are writable\n",
    "p.attrs\n",
    "\n",
    "#MEga tip: use css selectors, dont use python for parsing"
   ]
  },
  {
   "cell_type": "markdown",
   "metadata": {},
   "source": [
    "### Dont scrape if there are other sources like API's"
   ]
  },
  {
   "cell_type": "code",
   "execution_count": 167,
   "metadata": {
    "collapsed": false
   },
   "outputs": [
    {
     "data": {
      "text/plain": [
       "<Response [200]>"
      ]
     },
     "execution_count": 167,
     "metadata": {},
     "output_type": "execute_result"
    }
   ],
   "source": [
    "#url Query string http;/klm.nl?param1=bla&param2=jaja\n",
    "#Json (or xml)is returned\n",
    "\n",
    "import requests\n",
    "resp = requests.get(\"https://api.ip2country.info/ip?184.68.182.250\")\n",
    "resp"
   ]
  },
  {
   "cell_type": "code",
   "execution_count": 168,
   "metadata": {
    "collapsed": false
   },
   "outputs": [
    {
     "data": {
      "text/plain": [
       "b'{\\n\\t\"countryCode\": \"CA\",\\n\\t\"countryCode3\": \"CAN\",\\n\\t\"countryName\": \"Canada\",\\n\\t\"countryEmoji\": \"\\xf0\\x9f\\x87\\xa8\\xf0\\x9f\\x87\\xa6\"\\n}\\n'"
      ]
     },
     "execution_count": 168,
     "metadata": {},
     "output_type": "execute_result"
    }
   ],
   "source": [
    "resp.content"
   ]
  },
  {
   "cell_type": "code",
   "execution_count": 169,
   "metadata": {
    "collapsed": false
   },
   "outputs": [
    {
     "data": {
      "text/plain": [
       "{'countryCode': 'CA',\n",
       " 'countryCode3': 'CAN',\n",
       " 'countryEmoji': '🇨🇦',\n",
       " 'countryName': 'Canada'}"
      ]
     },
     "execution_count": 169,
     "metadata": {},
     "output_type": "execute_result"
    }
   ],
   "source": [
    "obj = resp.json()\n",
    "obj"
   ]
  },
  {
   "cell_type": "code",
   "execution_count": 172,
   "metadata": {
    "collapsed": false
   },
   "outputs": [
    {
     "data": {
      "text/plain": [
       "b'{\"iss_position\": {\"latitude\": \"16.4397\", \"longitude\": \"102.2857\"}, \"message\": \"success\", \"timestamp\": 1495288498}'"
      ]
     },
     "execution_count": 172,
     "metadata": {},
     "output_type": "execute_result"
    }
   ],
   "source": [
    "#nw lets use open-notify.org with urllib\n",
    "import urllib.request,json\n",
    "resp = urllib.request.urlopen(\"http://api.open-notify.org/iss-now.json\")\n",
    "s= resp.read()\n",
    "s"
   ]
  },
  {
   "cell_type": "code",
   "execution_count": 174,
   "metadata": {
    "collapsed": false
   },
   "outputs": [
    {
     "data": {
      "text/plain": [
       "'102.2857'"
      ]
     },
     "execution_count": 174,
     "metadata": {},
     "output_type": "execute_result"
    }
   ],
   "source": [
    "obj = json.loads(s.decode(\"utf8\"))\n",
    "obj.get(\"iss_position\").get(\"longitude\") #get will return None instead of error"
   ]
  },
  {
   "cell_type": "code",
   "execution_count": 175,
   "metadata": {
    "collapsed": false
   },
   "outputs": [
    {
     "data": {
      "text/plain": [
       "{'iss_position': {'latitude': '26.8306', 'longitude': '111.4729'},\n",
       " 'message': 'success',\n",
       " 'timestamp': 1495288714}"
      ]
     },
     "execution_count": 175,
     "metadata": {},
     "output_type": "execute_result"
    }
   ],
   "source": [
    "#Or use requests (prefered)\n",
    "import requests\n",
    "resp = requests.get(\"http://api.open-notify.org/iss-now.json\")\n",
    "obj = resp.json()\n",
    "obj"
   ]
  },
  {
   "cell_type": "code",
   "execution_count": 187,
   "metadata": {
    "collapsed": false
   },
   "outputs": [],
   "source": [
    "#With params\n",
    "import requests\n",
    "parameters = {\"lon\":-79,\"lat\":45}\n",
    "resp=requests.get(\"http://klm.nl\",params=parameters)\n",
    "resp\n",
    "myjson = obj"
   ]
  },
  {
   "cell_type": "code",
   "execution_count": 188,
   "metadata": {
    "collapsed": false
   },
   "outputs": [
    {
     "name": "stdout",
     "output_type": "stream",
     "text": [
      "{'iss_position': {'latitude': '26.8306', 'longitude': '111.4729'},\n",
      " 'message': 'success',\n",
      " 'timestamp': 1495288714}\n"
     ]
    }
   ],
   "source": [
    "#resp.content\n",
    "import pprint\n",
    "pprint.pprint(myjson)"
   ]
  },
  {
   "cell_type": "markdown",
   "metadata": {},
   "source": [
    "### Bonus : how to login\n"
   ]
  },
  {
   "cell_type": "code",
   "execution_count": 203,
   "metadata": {
    "collapsed": false
   },
   "outputs": [
    {
     "name": "stdout",
     "output_type": "stream",
     "text": [
      "<!DOCTYPE html>\n",
      "<html>\n",
      "  <head>\n",
      "    <meta http-equiv=\"Content-type\" content=\"text/html; charset=utf-8\">\n",
      "    <meta http-equiv=\"Content-Security-Policy\" content=\"default-src 'none'; base-uri 'self'; connect-src 'self'; form-action 'self'; img-src data:; script-src 'self'; style-src 'unsafe-inline'\">\n",
      "    <meta content=\"origin\" name=\"referrer\">\n",
      "    <title>Oh no &middot; GitHub</title>\n",
      "    <style type=\"text/css\" media=\"screen\">\n",
      "      body {\n",
      "        background-color: #f1f1f1;\n",
      "        margin: 0;\n",
      "        font-family: \"Helvetica Neue\", Helvetica, Arial, sans-serif;\n",
      "      }\n",
      "\n",
      "      .container { margin: 50px auto 40px auto; width: 600px; text-align: center; }\n",
      "\n",
      "      a { color: #4183c4; text-decoration: none; }\n",
      "      a:hover { text-decoration: underline; }\n",
      "\n",
      "      h1 { letter-spacing: -1px; line-height: 60px; font-size: 60px; font-weight: 100; margin: 0px; text-shadow: 0 1px 0 #fff; }\n",
      "      p { color: rgba(0, 0, 0, 0.5); margin: 20px 0 40px; }\n",
      "\n",
      "      ul { list-style: none; margin: 25px 0; padding: 0; }\n",
      "      li { display: table-cell; font-weight: bold; width: 1%; }\n",
      "\n",
      "      .logo { display: inline-block; margin-top: 35px; }\n",
      "      .logo-img-2x { display: none; }\n",
      "      @media\n",
      "      only screen and (-webkit-min-device-pixel-ratio: 2),\n",
      "      only screen and (   min--moz-device-pixel-ratio: 2),\n",
      "      only screen and (     -o-min-device-pixel-ratio: 2/1),\n",
      "      only screen and (        min-device-pixel-ratio: 2),\n",
      "      only screen and (                min-resolution: 192dpi),\n",
      "      only screen and (                min-resolution: 2dppx) {\n",
      "        .logo-img-1x { display: none; }\n",
      "        .logo-img-2x { display: inline-block; }\n",
      "      }\n",
      "\n",
      "      #suggestions {\n",
      "        margin-top: 35px;\n",
      "        color: #ccc;\n",
      "      }\n",
      "      #suggestions a {\n",
      "        color: #666666;\n",
      "        font-weight: 200;\n",
      "        font-size: 14px;\n",
      "        margin: 0 10px;\n",
      "      }\n",
      "\n",
      "    </style>\n",
      "  </head>\n",
      "  <body>\n",
      "\n",
      "    <div class=\"container\">\n",
      "\n",
      "      <h1>What&#8253;</h1>\n",
      "      <p>Your browser did something unexpected. Please contact us if the problem persists.</p>\n",
      "      <div id=\"suggestions\">\n",
      "        <a href=\"https://github.com/contact\">Contact Support</a> &mdash;\n",
      "        <a href=\"https://status.github.com\">GitHub Status</a> &mdash;\n",
      "        <a href=\"https://twitter.com/githubstatus\">@githubstatus</a>\n",
      "      </div>\n",
      "\n",
      "      <a href=\"/\" class=\"logo logo-img-1x\">\n",
      "        <img width=\"32\" height=\"32\" title=\"\" alt=\"\" src=\"data:image/png;base64,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\">\n",
      "      </a>\n",
      "\n",
      "      <a href=\"/\" class=\"logo logo-img-2x\">\n",
      "        <img width=\"32\" height=\"32\" title=\"\" alt=\"\" src=\"data:image/png;base64,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\">\n",
      "      </a>\n",
      "    </div>\n",
      "  </body>\n",
      "</html>\n",
      "\n"
     ]
    }
   ],
   "source": [
    "#does not work yet\n",
    "import requests\n",
    "\n",
    "# Fill in your details here to be posted to the login form.\n",
    "params = {\n",
    "    'user': 'bla',\n",
    "    'password': 'bla'\n",
    "}\n",
    "\n",
    "# Use 'with' to ensure the session context is closed after use.\n",
    "with requests.Session() as s:\n",
    "    res = s.post('https://github.com/login',params)\n",
    "    #res = s.post(main_project_url,cookies=res.cookies)\n",
    "    #print(res.cookies.get_dict())\n",
    "    res = s.post(main_project_url,cookies=res.cookies.get_dict())    # print the html returned or something more intelligent to see if it's a successful login page.\n",
    "    print (res.text)\n",
    "\n",
    "\n",
    "\n",
    "    "
   ]
  }
 ],
 "metadata": {
  "kernelspec": {
   "display_name": "Python 3",
   "language": "python",
   "name": "python3"
  },
  "language_info": {
   "codemirror_mode": {
    "name": "ipython",
    "version": 3
   },
   "file_extension": ".py",
   "mimetype": "text/x-python",
   "name": "python",
   "nbconvert_exporter": "python",
   "pygments_lexer": "ipython3",
   "version": "3.6.0"
  }
 },
 "nbformat": 4,
 "nbformat_minor": 2
}
