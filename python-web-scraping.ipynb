{
 "cells": [
  {
   "cell_type": "markdown",
   "metadata": {},
   "source": [
    "### Python scraping\n",
    "\n",
    "```\n",
    "personal notebook about webscraping using Selenium, beautifiul soup , and normal http lib request.\n",
    "\n",
    "A website has 3 main components , html for contents, javascript for interaction, css for style.\n",
    "\n",
    "Why scraping: Automate data gathering\n",
    "\n",
    "css selectors: id, tags and classes.\n",
    "tags is for example <p> , which css can find using p {}\n",
    "<p id=\"mijnid\"> can be found using #id . \n",
    "<p class=\"mijnclass\"> can be found using .mijnclass , and is used for many tags with the same class.\n",
    "\n",
    "To debug: open Chrome , and go to inspect components on the website\n",
    "In console use $$(\".name\") to find css tags to verify/debug your finding.\n",
    "\n",
    "In console open your item to see all attributes. \n",
    "use :\n",
    "[...$$(\".yourname\")].forEach( (e) =>: { } ];\n",
    "\n",
    "it shows your attribute.\n",
    "\n",
    "\n",
    "to scrape install selnium:\n",
    "python -m pip install selenium\n",
    "Also a webdriver (chrome driver) can be used to test websites. In the end we will just use a aorchestration tool which call our scraping tool periodically. But before that moment we will use chromedriver to research the website using code\n",
    "```"
   ]
  },
  {
   "cell_type": "code",
   "execution_count": 108,
   "metadata": {
    "collapsed": true
   },
   "outputs": [],
   "source": [
    "#settings\n",
    "#main_project_url=\"https://github.com/michelnossin/python-scraping/commits/master\"\n",
    "main_project_url=\"https://github.com/michelnossin/pandaweb/commits/master\"\n",
    "#main_project_url=\"https://github.com/michelnossin/commander/commits/master\""
   ]
  },
  {
   "cell_type": "code",
   "execution_count": 106,
   "metadata": {
    "collapsed": false
   },
   "outputs": [],
   "source": [
    "from selenium import webdriver\n",
    "browser = webdriver.Chrome(\"/Users/michelnossin/Downloads/chromedriver\")\n",
    "\n",
    "#browser.get(main_project_url)\n",
    "#browser.execute_script(\"alert('hello michel')\")\n",
    "#input.send_keys(\"some input text for input box\")\n",
    "#input.clear()"
   ]
  },
  {
   "cell_type": "code",
   "execution_count": 110,
   "metadata": {
    "collapsed": false
   },
   "outputs": [],
   "source": [
    "import time\n",
    "import numpy as np\n",
    "import pandas as pd\n",
    "\n",
    "def _retrieve_df_commitinfo ():\n",
    "    'Retreive a Pandas dataframe with commits in a git project from current level'\n",
    "\n",
    "    dates = browser.find_elements_by_css_selector(\".commit-meta\")\n",
    "    titles = browser.find_elements_by_css_selector(\".commit-title\")\n",
    "    authors = browser.find_elements_by_css_selector(\".commit-author\")\n",
    "    alist = [a.text for a in authors]\n",
    "    tlist = [t.text for t in titles]\n",
    "    dlist = [d.text for d in dates]\n",
    "    dat = zip(dlist,alist,tlist)\n",
    "    dat = [list(a) for a in dat]\n",
    "    df = pd.DataFrame(dat)\n",
    "    \n",
    "    #Go to next page with commits on git\n",
    "    deeper_list = pd.DataFrame()\n",
    "    try:\n",
    "        older_button = browser.find_element_by_css_selector(\".pagination a\")\n",
    "        older_button.click()\n",
    "        time.sleep(0.5)\n",
    "    \n",
    "        deeper_list = retrieve_lists_commitinfo()\n",
    "    except:\n",
    "        return df\n",
    "     \n",
    "    return pd.concat([df, deeper_list])\n",
    "\n",
    "def get_commits_project(project_url):\n",
    "    'get pandas dataframe with commits from given project url'\n",
    "    browser.get(project_url)\n",
    "    results = _retrieve_df_commitinfo()\n",
    "    results.columns = ['date', 'commiter','title']\n",
    "    return results"
   ]
  },
  {
   "cell_type": "code",
   "execution_count": 111,
   "metadata": {
    "collapsed": false
   },
   "outputs": [
    {
     "data": {
      "text/html": [
       "<div>\n",
       "<table border=\"1\" class=\"dataframe\">\n",
       "  <thead>\n",
       "    <tr style=\"text-align: right;\">\n",
       "      <th></th>\n",
       "      <th>date</th>\n",
       "      <th>commiter</th>\n",
       "      <th>title</th>\n",
       "    </tr>\n",
       "  </thead>\n",
       "  <tbody>\n",
       "    <tr>\n",
       "      <th>0</th>\n",
       "      <td>michelnossin committed on Dec 17 2016</td>\n",
       "      <td>michelnossin</td>\n",
       "      <td>update readme</td>\n",
       "    </tr>\n",
       "    <tr>\n",
       "      <th>1</th>\n",
       "      <td>michelnossin committed on Dec 17 2016</td>\n",
       "      <td>michelnossin</td>\n",
       "      <td>Created python backend, using it frontend has ...</td>\n",
       "    </tr>\n",
       "    <tr>\n",
       "      <th>2</th>\n",
       "      <td>michelnossin committed on Dec 17 2016</td>\n",
       "      <td>michelnossin</td>\n",
       "      <td>Change readme</td>\n",
       "    </tr>\n",
       "    <tr>\n",
       "      <th>3</th>\n",
       "      <td>michelnossin committed on Dec 17 2016</td>\n",
       "      <td>michelnossin</td>\n",
       "      <td>Frontend is also hosted by nodejs, changed sam...</td>\n",
       "    </tr>\n",
       "    <tr>\n",
       "      <th>4</th>\n",
       "      <td>michelnossin committed on Dec 14 2016</td>\n",
       "      <td>michelnossin</td>\n",
       "      <td>replaced complete backend to REST api, only no...</td>\n",
       "    </tr>\n",
       "    <tr>\n",
       "      <th>5</th>\n",
       "      <td>michelnossin committed on Dec 11 2016</td>\n",
       "      <td>michelnossin</td>\n",
       "      <td>Created jsonrpc based server and client exampl...</td>\n",
       "    </tr>\n",
       "    <tr>\n",
       "      <th>6</th>\n",
       "      <td>michelnossin committed on Dec 10 2016</td>\n",
       "      <td>michelnossin</td>\n",
       "      <td>Added sample Python backend, and test frontend...</td>\n",
       "    </tr>\n",
       "    <tr>\n",
       "      <th>7</th>\n",
       "      <td>michelnossin committed on Dec 7 2016</td>\n",
       "      <td>michelnossin</td>\n",
       "      <td>changed readme</td>\n",
       "    </tr>\n",
       "    <tr>\n",
       "      <th>8</th>\n",
       "      <td>michelnossin committed on Dec 7 2016</td>\n",
       "      <td>michelnossin</td>\n",
       "      <td>changed readme</td>\n",
       "    </tr>\n",
       "    <tr>\n",
       "      <th>9</th>\n",
       "      <td>michelnossin committed on Dec 7 2016</td>\n",
       "      <td>michelnossin</td>\n",
       "      <td>first commit</td>\n",
       "    </tr>\n",
       "  </tbody>\n",
       "</table>\n",
       "</div>"
      ],
      "text/plain": [
       "                                    date      commiter  \\\n",
       "0  michelnossin committed on Dec 17 2016  michelnossin   \n",
       "1  michelnossin committed on Dec 17 2016  michelnossin   \n",
       "2  michelnossin committed on Dec 17 2016  michelnossin   \n",
       "3  michelnossin committed on Dec 17 2016  michelnossin   \n",
       "4  michelnossin committed on Dec 14 2016  michelnossin   \n",
       "5  michelnossin committed on Dec 11 2016  michelnossin   \n",
       "6  michelnossin committed on Dec 10 2016  michelnossin   \n",
       "7   michelnossin committed on Dec 7 2016  michelnossin   \n",
       "8   michelnossin committed on Dec 7 2016  michelnossin   \n",
       "9   michelnossin committed on Dec 7 2016  michelnossin   \n",
       "\n",
       "                                               title  \n",
       "0                                      update readme  \n",
       "1  Created python backend, using it frontend has ...  \n",
       "2                                      Change readme  \n",
       "3  Frontend is also hosted by nodejs, changed sam...  \n",
       "4  replaced complete backend to REST api, only no...  \n",
       "5  Created jsonrpc based server and client exampl...  \n",
       "6  Added sample Python backend, and test frontend...  \n",
       "7                                     changed readme  \n",
       "8                                     changed readme  \n",
       "9                                       first commit  "
      ]
     },
     "execution_count": 111,
     "metadata": {},
     "output_type": "execute_result"
    }
   ],
   "source": [
    "\n",
    "get_commits_project(main_project_url)"
   ]
  },
  {
   "cell_type": "markdown",
   "metadata": {},
   "source": [
    "To Browse to multiple pages, you can find the button in the same matter,\n",
    "and use .click() to push next. If a button does no have a css selector,\n",
    "but it sits in a another item like a span tag, you can use e.g. $$(\".span a\") in chrome to find the link item in a span item."
   ]
  },
  {
   "cell_type": "markdown",
   "metadata": {},
   "source": [
    "### urllib , request and wget\n",
    "\n",
    "To getr data pure within python, without web driver on client"
   ]
  },
  {
   "cell_type": "code",
   "execution_count": 113,
   "metadata": {
    "collapsed": false
   },
   "outputs": [],
   "source": [
    "#Use request to get html\n",
    "import requests\n",
    "url =\"http://nos.nl\"\n",
    "response = requests.get(url)\n",
    "html = response.text\n",
    "#print(html)\n",
    "\n",
    "#Adding header like this:\n",
    "header = { \"From\":\"my name\"}\n",
    "response = requests.het(url,headers=header)\n",
    "if response.status_code != 200:\n",
    "    print(\"problem\",response.status_code,response.reason)\n",
    "    exit()"
   ]
  },
  {
   "cell_type": "code",
   "execution_count": 116,
   "metadata": {
    "collapsed": false
   },
   "outputs": [],
   "source": [
    "#OR use urllib\n",
    "import urllib.request\n",
    "request = urllib.request.Request(url)\n",
    "response = urllib.request.urlopen(request)\n",
    "html = response.read()\n",
    "#print(html)"
   ]
  },
  {
   "cell_type": "markdown",
   "metadata": {},
   "source": [
    "```\n",
    "to prevent load on website.\n",
    "wget <html file>\n",
    "Open file using local browser, and debug this file\n",
    "```"
   ]
  },
  {
   "cell_type": "code",
   "execution_count": null,
   "metadata": {
    "collapsed": true
   },
   "outputs": [],
   "source": [
    "#to open wget file\n",
    "file = \"myfile.html\"\n",
    "with open(file,encoding=\"utf-8\") as f:\n",
    "    html = f.read()\n",
    "    \n",
    "print (html)\n",
    "    "
   ]
  },
  {
   "cell_type": "markdown",
   "metadata": {},
   "source": [
    "Client side website might not show all data as the source code is not the same as what you see on your client browser"
   ]
  },
  {
   "cell_type": "markdown",
   "metadata": {},
   "source": [
    "### Beautiful Soup to parse\n",
    "\n",
    "python pip -m BeautifulSoup4\n"
   ]
  },
  {
   "cell_type": "code",
   "execution_count": 146,
   "metadata": {
    "collapsed": false
   },
   "outputs": [],
   "source": [
    "from bs4 import BeautifulSoup\n",
    "\n",
    "html = \"<p id='myid'>michel</p><p class='myclass'>hallo</p>\"  #as is parser\n",
    "soup = BeautifulSoup(html,\"html.parser\")\n"
   ]
  },
  {
   "cell_type": "code",
   "execution_count": 136,
   "metadata": {
    "collapsed": false
   },
   "outputs": [],
   "source": [
    "#Error. Acts more like browsers, so will add html to make page valid, like body \n",
    "import html5lib\n",
    "#parser = html5lib.HTMLParser(tree=html5lib.getTreeBuilder(\"dom\"))\n",
    "\n",
    "#soup = BeautifulSoup(html, \"html5lib\") #install using pip install html5lib\n"
   ]
  },
  {
   "cell_type": "code",
   "execution_count": 143,
   "metadata": {
    "collapsed": false
   },
   "outputs": [
    {
     "data": {
      "text/plain": [
       "[<p>michel</p>, <p class=\"myclass\">hallo</p>]"
      ]
     },
     "execution_count": 143,
     "metadata": {},
     "output_type": "execute_result"
    }
   ],
   "source": [
    "soup.find_all(\"p\")"
   ]
  },
  {
   "cell_type": "code",
   "execution_count": 139,
   "metadata": {
    "collapsed": false
   },
   "outputs": [
    {
     "data": {
      "text/plain": [
       "[]"
      ]
     },
     "execution_count": 139,
     "metadata": {},
     "output_type": "execute_result"
    }
   ],
   "source": [
    "soup.find_all([\"th\",\"td\"])"
   ]
  },
  {
   "cell_type": "code",
   "execution_count": 145,
   "metadata": {
    "collapsed": false
   },
   "outputs": [
    {
     "data": {
      "text/plain": [
       "[<p class=\"myclass\">hallo</p>]"
      ]
     },
     "execution_count": 145,
     "metadata": {},
     "output_type": "execute_result"
    }
   ],
   "source": [
    "soup.find_all(class_=\"myclass\")"
   ]
  },
  {
   "cell_type": "code",
   "execution_count": 157,
   "metadata": {
    "collapsed": false
   },
   "outputs": [
    {
     "data": {
      "text/plain": [
       "[<p id=\"myid\">michel</p>]"
      ]
     },
     "execution_count": 157,
     "metadata": {},
     "output_type": "execute_result"
    }
   ],
   "source": [
    "import re\n",
    "soup.find_all(id=re.compile(\"^myid\"))"
   ]
  },
  {
   "cell_type": "markdown",
   "metadata": {},
   "source": [
    "Use select or select_one is more clear, clean , precise syntax"
   ]
  },
  {
   "cell_type": "code",
   "execution_count": 148,
   "metadata": {
    "collapsed": false
   },
   "outputs": [
    {
     "data": {
      "text/plain": [
       "[<p id=\"myid\">michel</p>, <p class=\"myclass\">hallo</p>]"
      ]
     },
     "execution_count": 148,
     "metadata": {},
     "output_type": "execute_result"
    }
   ],
   "source": [
    "soup.select(\"p\")"
   ]
  },
  {
   "cell_type": "code",
   "execution_count": 149,
   "metadata": {
    "collapsed": false
   },
   "outputs": [
    {
     "data": {
      "text/plain": [
       "[]"
      ]
     },
     "execution_count": 149,
     "metadata": {},
     "output_type": "execute_result"
    }
   ],
   "source": [
    "soup.select(\"th,td\")"
   ]
  },
  {
   "cell_type": "code",
   "execution_count": 150,
   "metadata": {
    "collapsed": false
   },
   "outputs": [
    {
     "data": {
      "text/plain": [
       "[<p class=\"myclass\">hallo</p>]"
      ]
     },
     "execution_count": 150,
     "metadata": {},
     "output_type": "execute_result"
    }
   ],
   "source": [
    "soup.select(\".myclass\")"
   ]
  },
  {
   "cell_type": "code",
   "execution_count": 155,
   "metadata": {
    "collapsed": false
   },
   "outputs": [
    {
     "data": {
      "text/plain": [
       "[<p id=\"myid\">michel</p>]"
      ]
     },
     "execution_count": 155,
     "metadata": {},
     "output_type": "execute_result"
    }
   ],
   "source": [
    "#soup.select(\"[id=myid]\")\n",
    "soup.select(\"[id^=myid]\")"
   ]
  },
  {
   "cell_type": "markdown",
   "metadata": {},
   "source": [
    "```\n",
    "All these methods return objects not strings, so use:\n",
    "tag.parent, tag.find_parent(\"div\")\n",
    "tag.children , tag.select(\"div\")\n",
    "tag.find_next_sibling(), tag.find_previous_siblings()\n",
    "```\n"
   ]
  },
  {
   "cell_type": "code",
   "execution_count": 159,
   "metadata": {
    "collapsed": false
   },
   "outputs": [
    {
     "data": {
      "text/plain": [
       "<p id=\"myid\">michel</p>"
      ]
     },
     "execution_count": 159,
     "metadata": {},
     "output_type": "execute_result"
    }
   ],
   "source": [
    "p = soup.select_one(\"p\")\n",
    "p"
   ]
  },
  {
   "cell_type": "code",
   "execution_count": 160,
   "metadata": {
    "collapsed": false
   },
   "outputs": [
    {
     "data": {
      "text/plain": [
       "<p class=\"myclass\">hallo</p>"
      ]
     },
     "execution_count": 160,
     "metadata": {},
     "output_type": "execute_result"
    }
   ],
   "source": [
    "p = p.find_next_sibling()\n",
    "p"
   ]
  },
  {
   "cell_type": "code",
   "execution_count": 161,
   "metadata": {
    "collapsed": false
   },
   "outputs": [
    {
     "data": {
      "text/plain": [
       "['hallo']"
      ]
     },
     "execution_count": 161,
     "metadata": {},
     "output_type": "execute_result"
    }
   ],
   "source": [
    "p.contents #contents give strings"
   ]
  },
  {
   "cell_type": "code",
   "execution_count": 165,
   "metadata": {
    "collapsed": false
   },
   "outputs": [
    {
     "data": {
      "text/plain": [
       "{'class': ['myclass'], 'newattr': ' Michel'}"
      ]
     },
     "execution_count": 165,
     "metadata": {},
     "output_type": "execute_result"
    }
   ],
   "source": [
    "p.attrs #Get attributes for any tag \n",
    "p[\"newattr\"] = \" Michel\" #its a dict, and dicts are writable\n",
    "p.attrs\n",
    "\n",
    "#MEga tip: use css selectors, dont use python for parsing"
   ]
  },
  {
   "cell_type": "markdown",
   "metadata": {},
   "source": [
    "### Dont scrape if there are other sources like API's"
   ]
  },
  {
   "cell_type": "code",
   "execution_count": 167,
   "metadata": {
    "collapsed": false
   },
   "outputs": [
    {
     "data": {
      "text/plain": [
       "<Response [200]>"
      ]
     },
     "execution_count": 167,
     "metadata": {},
     "output_type": "execute_result"
    }
   ],
   "source": [
    "#url Query string http;/klm.nl?param1=bla&param2=jaja\n",
    "#Json (or xml)is returned\n",
    "\n",
    "import requests\n",
    "resp = requests.get(\"https://api.ip2country.info/ip?184.68.182.250\")\n",
    "resp"
   ]
  },
  {
   "cell_type": "code",
   "execution_count": 168,
   "metadata": {
    "collapsed": false
   },
   "outputs": [
    {
     "data": {
      "text/plain": [
       "b'{\\n\\t\"countryCode\": \"CA\",\\n\\t\"countryCode3\": \"CAN\",\\n\\t\"countryName\": \"Canada\",\\n\\t\"countryEmoji\": \"\\xf0\\x9f\\x87\\xa8\\xf0\\x9f\\x87\\xa6\"\\n}\\n'"
      ]
     },
     "execution_count": 168,
     "metadata": {},
     "output_type": "execute_result"
    }
   ],
   "source": [
    "resp.content"
   ]
  },
  {
   "cell_type": "code",
   "execution_count": 169,
   "metadata": {
    "collapsed": false
   },
   "outputs": [
    {
     "data": {
      "text/plain": [
       "{'countryCode': 'CA',\n",
       " 'countryCode3': 'CAN',\n",
       " 'countryEmoji': '🇨🇦',\n",
       " 'countryName': 'Canada'}"
      ]
     },
     "execution_count": 169,
     "metadata": {},
     "output_type": "execute_result"
    }
   ],
   "source": [
    "obj = resp.json()\n",
    "obj"
   ]
  },
  {
   "cell_type": "code",
   "execution_count": 172,
   "metadata": {
    "collapsed": false
   },
   "outputs": [
    {
     "data": {
      "text/plain": [
       "b'{\"iss_position\": {\"latitude\": \"16.4397\", \"longitude\": \"102.2857\"}, \"message\": \"success\", \"timestamp\": 1495288498}'"
      ]
     },
     "execution_count": 172,
     "metadata": {},
     "output_type": "execute_result"
    }
   ],
   "source": [
    "#nw lets use open-notify.org with urllib\n",
    "import urllib.request,json\n",
    "resp = urllib.request.urlopen(\"http://api.open-notify.org/iss-now.json\")\n",
    "s= resp.read()\n",
    "s"
   ]
  },
  {
   "cell_type": "code",
   "execution_count": 174,
   "metadata": {
    "collapsed": false
   },
   "outputs": [
    {
     "data": {
      "text/plain": [
       "'102.2857'"
      ]
     },
     "execution_count": 174,
     "metadata": {},
     "output_type": "execute_result"
    }
   ],
   "source": [
    "obj = json.loads(s.decode(\"utf8\"))\n",
    "obj.get(\"iss_position\").get(\"longitude\") #get will return None instead of error"
   ]
  },
  {
   "cell_type": "code",
   "execution_count": 175,
   "metadata": {
    "collapsed": false
   },
   "outputs": [
    {
     "data": {
      "text/plain": [
       "{'iss_position': {'latitude': '26.8306', 'longitude': '111.4729'},\n",
       " 'message': 'success',\n",
       " 'timestamp': 1495288714}"
      ]
     },
     "execution_count": 175,
     "metadata": {},
     "output_type": "execute_result"
    }
   ],
   "source": [
    "#Or use requests (prefered)\n",
    "import requests\n",
    "resp = requests.get(\"http://api.open-notify.org/iss-now.json\")\n",
    "obj = resp.json()\n",
    "obj"
   ]
  },
  {
   "cell_type": "code",
   "execution_count": 187,
   "metadata": {
    "collapsed": false
   },
   "outputs": [],
   "source": [
    "#With params\n",
    "import requests\n",
    "parameters = {\"lon\":-79,\"lat\":45}\n",
    "resp=requests.get(\"http://klm.nl\",params=parameters)\n",
    "resp\n",
    "myjson = obj"
   ]
  },
  {
   "cell_type": "code",
   "execution_count": 188,
   "metadata": {
    "collapsed": false
   },
   "outputs": [
    {
     "name": "stdout",
     "output_type": "stream",
     "text": [
      "{'iss_position': {'latitude': '26.8306', 'longitude': '111.4729'},\n",
      " 'message': 'success',\n",
      " 'timestamp': 1495288714}\n"
     ]
    }
   ],
   "source": [
    "#resp.content\n",
    "import pprint\n",
    "pprint.pprint(myjson)"
   ]
  }
 ],
 "metadata": {
  "kernelspec": {
   "display_name": "Python 3",
   "language": "python",
   "name": "python3"
  },
  "language_info": {
   "codemirror_mode": {
    "name": "ipython",
    "version": 3
   },
   "file_extension": ".py",
   "mimetype": "text/x-python",
   "name": "python",
   "nbconvert_exporter": "python",
   "pygments_lexer": "ipython3",
   "version": "3.6.0"
  }
 },
 "nbformat": 4,
 "nbformat_minor": 2
}
